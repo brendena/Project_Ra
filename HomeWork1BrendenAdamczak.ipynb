{
 "metadata": {
  "name": "",
  "signature": "sha256:eda2546449a1908aa9371c87867165af880e46ccb4c8feb9a367c6ed85bf99f8"
 },
 "nbformat": 3,
 "nbformat_minor": 0,
 "worksheets": [
  {
   "cells": [
    {
     "cell_type": "code",
     "collapsed": false,
     "input": [
      "#%load myJunkPython.py\n",
      "%matplotlib inline \n",
      "from bs4 import BeautifulSoup\n",
      "from urllib import request \n",
      "import matplotlib.pyplot as plt \n",
      "import plotly\n",
      "import plotly.plotly as py\n",
      "import plotly.graph_objs as go\n",
      "from pylab import pie\n",
      "from random import uniform \n",
      "import time\n",
      "import pickle\n",
      "import sys\n",
      "plotly.tools.set_credentials_file(username='brendena', api_key='rdv7Udzb9CKiqqlrWUWK')\n",
      "#from myJunkPython import GetInfo"
     ],
     "language": "python",
     "metadata": {},
     "outputs": [],
     "prompt_number": 1
    },
    {
     "cell_type": "markdown",
     "metadata": {},
     "source": [
      "# GetInfo Class\n",
      "GetInfo is a class that handle all the request.  \n",
      "So it has a search for a page\n",
      "It has search for a state and it\n",
      "has some small helper function to \n",
      "manage url construction and pickling the data.\n"
     ]
    },
    {
     "cell_type": "code",
     "collapsed": false,
     "input": [
      "class GetInfo:\n",
      "    def __init__(self):\n",
      "        print(\"nothing yet\")\n",
      "        self.data = []\n",
      "        self.largestSize = 0\n",
      "        self.averagePerState = {}\n",
      "        #,\"IN\" ,\"OR\"\n",
      "        #tried lower case letter\n",
      "        #didn't seem to work\n",
      "        self.listState = [\"AL\",\"AK\",\"AZ\",\"AR\",\"CA\",\"CO\",\"CT\",\"DE\",\"FL\",\"GA\",\"HI\",\"ID\",\"IL\",\"IA\",\"KS\",\"KY\",\n",
      "                          \"LA\",\"ME\",\"MD\",\"MA\",\"MI\",\"MN\",\"MS\",\"MO\",\"MT\",\"NE\",\"NV\",\"NH\",\"NJ\",\"NM\",\"NY\",\"NC\",\"ND\",\n",
      "                          \"OH\",\"OK\",\"PA\",\"RI\",\"SC\",\"SD\",\"TN\",\"TX\",\"UT\",\"VT\",\"VA\",\"WA\",\"WV\",\"WI\",\"WY\"]\n",
      "        \n",
      "  \n",
      "        \n",
      "    #constructs the url\n",
      "    def searchURL(self, intiger, state):\n",
      "        return  (\"https://projects.propublica.org/docdollars/query?commit=Search&page=\" +\n",
      "                str(intiger) + \n",
      "                \"&query=&state=\" +\n",
      "                state +\n",
      "                \"&utf8=%E2%9C%93\")\n",
      "                \n",
      "    #get the information of a specific state and a specific page\n",
      "    def getPagesInfo(self, intiger, state):\n",
      "        url= self.searchURL(intiger,state)\n",
      "        soup = self.getSoup(url)\n",
      "        table = soup.find(\"table\", {\"class\": \"sorty\"}).find(\"tbody\")\n",
      "\n",
      "        dictionaryOfStates = {}\n",
      "        for row in table.findAll('tr'):\n",
      "            colmn = row.findAll('td')\n",
      "            name = colmn[0].find(\"a\").get_text().replace(\"  \", \"\").replace(\"\\n\",\"\")\n",
      "            job = colmn[0].get_text().replace(name, \"\").replace(\"  \", \"\").replace(\"\\n\",\"\")\n",
      "            #removes the vermont part\n",
      "            town = colmn[1].find(\"p\").get_text().split(',')[0].replace(\"  \", \"\").replace(\"\\n\",\"\")\n",
      "            income = colmn[2].string.replace(\",\",\"\").replace(\"$\",\"\").replace(\"  \", \"\").replace(\"\\n\",\"\")\n",
      "            \n",
      "            if 'M' in income:\n",
      "                income = income.replace(\"M\",\"\")\n",
      "                income = int(income) * 1000000\n",
      "            \n",
      "            elif 'K' in income: \n",
      "                income = income.replace(\"K\",\"\")\n",
      "                income = int(income) * 1000\n",
      "            else:\n",
      "                income = int(income)\n",
      "            \n",
      "            self.data.append({\n",
      "                'name': name,\n",
      "                'job': job,\n",
      "                'town':  town,\n",
      "                'income': income\n",
      "            })\n",
      "            #print(name)\n",
      "            #print(job)\n",
      "            #print(town)\n",
      "            #print(income)\n",
      "\n",
      "    #loop through all the data of a specific state\n",
      "    def loopThroughAllState(self, state):\n",
      "        largestValue = self.getNumberOfPages(state)\n",
      "        \n",
      "        print(largestValue)\n",
      "        print('\\n')\n",
      "        \n",
      "        for i in range(int(largestValue)):\n",
      "            #if there a error its going to going\n",
      "            try:\n",
      "                self.getPagesInfo(i, state)\n",
      "            except:\n",
      "                print(\"error\")\n",
      "            print(i)\n",
      "            time.sleep(uniform(2,10))\n",
      "            \n",
      "        print(\"pickling \" + state + \".pickle\")\n",
      "        pickleData = {\n",
      "            'data':self.data,\n",
      "            'numberPages':largestValue,\n",
      "            'size': len(self.data)\n",
      "        }\n",
      "        \n",
      "        pickle.dump(pickleData, open(state + \".pickle\", \"wb+\"))\n",
      "        self.data = []\n",
      "    \n",
      "    def getNumberOfPages(self,state):\n",
      "        url=self.searchURL(1,state)\n",
      "        page = request.urlopen(url)\n",
      "        soup = BeautifulSoup(page.read(), \"lxml\")\n",
      "        table = soup.find(\"nav\", {\"class\": \"pagination\"})\n",
      "        largestValue = 0\n",
      "\n",
      "        for row in table.findAll(\"span\"):\n",
      "            if(row['class'][0] == 'next'):\n",
      "                break\n",
      "            largestValue = row.get_text()\n",
      "            \n",
      "        return largestValue\n",
      "\n",
      "    def getNumberPeoplePerState(self):\n",
      "        for state in self.listState:\n",
      "            print(state)\n",
      "                                                                    #25 per page\n",
      "            self.averagePerState[state] = (int(self.getNumberOfPages(state)) *25)\n",
      "            time.sleep(uniform(1,4))\n",
      "            \n",
      "        \n",
      "            \n",
      "\n",
      "    #Get the page information\n",
      "    def getSoup(self, url):\n",
      "        #http://stackoverflow.com/questions/16511337/correct-way-to-try-except-using-python-requests-module\n",
      "        try:\n",
      "            page = request.urlopen(url)\n",
      "        except requests.exceptions.Timeout:\n",
      "        # Maybe set up for a retry, or continue in a retry loop\\\n",
      "            print(\"exception time out try again\")\n",
      "            time.sleep(30)\n",
      "            page = request.urlopen(url)\n",
      "        except requests.exceptions.TooManyRedirects:\n",
      "            # Tell the user their URL was bad and try a different one\n",
      "            print(\"bad URL\")\n",
      "            print(url)\n",
      "        except requests.exceptions.RequestException as e:\n",
      "            # catastrophic error. bail.\n",
      "            print (e)\n",
      "            sys.exit(1)\n",
      "        soup = BeautifulSoup(page.read(), \"lxml\")\n",
      "        return soup\n",
      "    \n",
      "    #load the saved data\n",
      "    def loadState(self, state):\n",
      "        return pickle.load( open( \"./\" + state + \".pickle\", \"rb\" ) )\n",
      "\n"
     ],
     "language": "python",
     "metadata": {},
     "outputs": [],
     "prompt_number": 2
    },
    {
     "cell_type": "markdown",
     "metadata": {},
     "source": [
      "A little function that can loop through all the state,\n",
      "but for time i just did a couple"
     ]
    },
    {
     "cell_type": "code",
     "collapsed": false,
     "input": [
      "thisGetInfo = GetInfo()"
     ],
     "language": "python",
     "metadata": {},
     "outputs": [
      {
       "output_type": "stream",
       "stream": "stdout",
       "text": [
        "nothing yet\n"
       ]
      }
     ],
     "prompt_number": 3
    },
    {
     "cell_type": "code",
     "collapsed": false,
     "input": [
      "#missed SD\n",
      "#IL problems with 25\n",
      "#state = state[26:]\n",
      "#for st in state:\n",
      "    #thisGetInfo.loopThroughAllState(st)\n",
      "    #print(st)\n",
      "    \n",
      "#thisGetInfo.loopThroughAllState(\"VT\")\n",
      "#thisGetInfo.loopThroughAllState(\"NY\")    \n",
      "thisGetInfo.getNumberPeoplePerState()"
     ],
     "language": "python",
     "metadata": {},
     "outputs": [],
     "prompt_number": 11
    },
    {
     "cell_type": "markdown",
     "metadata": {},
     "source": [
      "This grabs the total amount of donates per state."
     ]
    },
    {
     "cell_type": "code",
     "collapsed": false,
     "input": [
      "print( thisGetInfo.averagePerState)"
     ],
     "language": "python",
     "metadata": {},
     "outputs": [
      {
       "output_type": "stream",
       "stream": "stdout",
       "text": [
        "{'AZ': 3975, 'AL': 2675, 'AK': 400, 'AR': 1500}\n"
       ]
      }
     ],
     "prompt_number": 5
    },
    {
     "cell_type": "code",
     "collapsed": false,
     "input": [
      "url=\"https://projects.propublica.org/docdollars/\"\n",
      "page = request.urlopen(url)\n",
      "soup = BeautifulSoup(page.read(), \"lxml\")\n",
      "\n",
      "table = soup.find(\"table\", {\"id\": \"payment-by-state-table\"}).find(\"tbody\")\n",
      "\n",
      "dictionaryOfStates = {\n",
      "    \"state\":[],\n",
      "    \"money\":[],\n",
      "    \"stateAbbrivation\": [],\n",
      "    \"average\": []\n",
      "}\n",
      "for row in table.findAll('tr'):\n",
      "    aux = row.findAll('td')\n",
      "    #aux[0] = name \n",
      "    #aux[1]['data-sort'] = float of value\n",
      "    atag = row.findAll('a')\n",
      "    stateAbbrivation = atag[0]['href'][-2:]\n",
      "    dictionaryOfStates['stateAbbrivation'].append(stateAbbrivation)\n",
      "    if (stateAbbrivation in thisGetInfo.averagePerState):\n",
      "        dictionaryOfStates[\"state\"].append(aux[0].string)\n",
      "        dictionaryOfStates[\"money\"].append(float(aux[1]['data-sort']))\n",
      "        dictionaryOfStates[\"average\"].append(float(aux[1]['data-sort']) / thisGetInfo.averagePerState[stateAbbrivation])\n",
      "        \n",
      "\n",
      "print(len(dictionaryOfStates[\"state\"]))\n",
      "\n",
      "#print (dictionaryOfStates[\"state\"])\n",
      "\n"
     ],
     "language": "python",
     "metadata": {},
     "outputs": [
      {
       "output_type": "stream",
       "stream": "stdout",
       "text": [
        "48\n"
       ]
      }
     ],
     "prompt_number": 35
    },
    {
     "cell_type": "markdown",
     "metadata": {},
     "source": [
      "Few Example of just plotting the entire amount of donations per states."
     ]
    },
    {
     "cell_type": "code",
     "collapsed": false,
     "input": [
      "figure = {\n",
      "    'data': [go.Bar(\n",
      "            x=dictionaryOfStates[\"state\"],\n",
      "            y=dictionaryOfStates[\"money\"]\n",
      "    )],\n",
      "\n",
      "    'layout': go.Layout(\n",
      "        title='Total donates per state',\n",
      "        xaxis=dict(\n",
      "            title=\"States\"\n",
      "        ),\n",
      "        yaxis=dict(\n",
      "            title=\"US Dolars\"\n",
      "        )\n",
      "    )\n",
      "\n",
      "\n",
      "}\n",
      "\n",
      "\n",
      "plot_url = py.iplot(figure, filename='doctorHistogram')\n",
      "print(plot_url)\n",
      "plot_url"
     ],
     "language": "python",
     "metadata": {},
     "outputs": [
      {
       "output_type": "stream",
       "stream": "stdout",
       "text": [
        "<plotly.tools.PlotlyDisplay object at 0x7f1aeaf9c8d0>\n"
       ]
      },
      {
       "html": [
        "<iframe id=\"igraph\" scrolling=\"no\" style=\"border:none;\" seamless=\"seamless\" src=\"https://plot.ly/~brendena/50.embed\" height=\"525px\" width=\"100%\"></iframe>"
       ],
       "metadata": {},
       "output_type": "pyout",
       "prompt_number": 49,
       "text": [
        "<plotly.tools.PlotlyDisplay at 0x7f1aeaf9c8d0>"
       ]
      }
     ],
     "prompt_number": 49
    },
    {
     "cell_type": "code",
     "collapsed": false,
     "input": [
      "fig = {\n",
      "    'data': [{'labels': dictionaryOfStates[\"state\"],\n",
      "              'values': dictionaryOfStates[\"money\"],\n",
      "              'type': 'pie'}],\n",
      "    'layout': {'title': 'entire percent of donation\\'s per state'}\n",
      "     }\n",
      "\n",
      "\n",
      "py.iplot(fig, filename=\"donationPieChart\")"
     ],
     "language": "python",
     "metadata": {},
     "outputs": [
      {
       "html": [
        "<iframe id=\"igraph\" scrolling=\"no\" style=\"border:none;\" seamless=\"seamless\" src=\"https://plot.ly/~brendena/52.embed\" height=\"525px\" width=\"100%\"></iframe>"
       ],
       "metadata": {},
       "output_type": "pyout",
       "prompt_number": 43,
       "text": [
        "<plotly.tools.PlotlyDisplay at 0x7f1aeb1e3ef0>"
       ]
      }
     ],
     "prompt_number": 43
    },
    {
     "cell_type": "code",
     "collapsed": false,
     "input": [
      "figure = {\n",
      "    \"data\": [go.Scatter(\n",
      "            x=dictionaryOfStates[\"state\"],\n",
      "            y=dictionaryOfStates[\"money\"],\n",
      "            mode = 'markers',\n",
      "            name = 'markers',\n",
      "            marker = dict(\n",
      "                color = \"green\",\n",
      "                symbol = \"x\"\n",
      "            )\n",
      "    )],\n",
      "\n",
      "    'layout': go.Layout(\n",
      "        title='Total donates per state',\n",
      "        xaxis=dict(\n",
      "            title=\"States\"\n",
      "        ),\n",
      "        yaxis=dict(\n",
      "            title=\"US Dolars\"\n",
      "        )\n",
      "    )\n",
      "}\n",
      "py.iplot(figure, filename='scatterPlot total Doctors Donations')"
     ],
     "language": "python",
     "metadata": {},
     "outputs": [
      {
       "html": [
        "<iframe id=\"igraph\" scrolling=\"no\" style=\"border:none;\" seamless=\"seamless\" src=\"https://plot.ly/~brendena/54.embed\" height=\"525px\" width=\"100%\"></iframe>"
       ],
       "metadata": {},
       "output_type": "pyout",
       "prompt_number": 58,
       "text": [
        "<plotly.tools.PlotlyDisplay at 0x7f1aeb149d68>"
       ]
      }
     ],
     "prompt_number": 58
    },
    {
     "cell_type": "markdown",
     "metadata": {},
     "source": [
      "    So when you look at all the differant states you can see that most of the states average around 20,000 dollars of donates per doctor with california and new york both around 60K.  Vermont has a slittle higher average at 24 thousand."
     ]
    },
    {
     "cell_type": "code",
     "collapsed": false,
     "input": [
      "figure = {\n",
      "    \"data\": [go.Scatter(\n",
      "            x=dictionaryOfStates[\"state\"],\n",
      "            y=dictionaryOfStates[\"average\"],\n",
      "            mode = 'markers',\n",
      "            name = 'markers',\n",
      "            marker = dict(\n",
      "                color = \"green\",\n",
      "                symbol = \"x\"\n",
      "            )\n",
      "    )],\n",
      "\n",
      "    'layout': go.Layout(\n",
      "        title='Total donates per state',\n",
      "        xaxis=dict(\n",
      "            title=\"States\"\n",
      "        ),\n",
      "        yaxis=dict(\n",
      "            title=\"US Dolars\"\n",
      "        )\n",
      "    )\n",
      "}\n",
      "py.iplot(figure, filename='scatterPlot total Doctors Donations')\n",
      "    "
     ],
     "language": "python",
     "metadata": {},
     "outputs": [
      {
       "html": [
        "<iframe id=\"igraph\" scrolling=\"no\" style=\"border:none;\" seamless=\"seamless\" src=\"https://plot.ly/~brendena/54.embed\" height=\"525px\" width=\"100%\"></iframe>"
       ],
       "metadata": {},
       "output_type": "pyout",
       "prompt_number": 12,
       "text": [
        "<plotly.tools.PlotlyDisplay at 0x7f7c1d203a58>"
       ]
      }
     ],
     "prompt_number": 12
    },
    {
     "cell_type": "code",
     "collapsed": false,
     "input": [
      "vermont = thisGetInfo.loadState(\"VT\")\n",
      "vtIncome = []\n",
      "for i in vermont['data']:\n",
      "    vtIncome.append(int(i[\"income\"]))\n",
      "\n",
      "\n",
      "\n",
      "vtIncome2 = []\n",
      "for i in vermont['data']:\n",
      "    if(i[\"income\"] < 2000):\n",
      "        vtIncome2.append(int(i[\"income\"]))\n",
      "        \n"
     ],
     "language": "python",
     "metadata": {},
     "outputs": [],
     "prompt_number": 23
    },
    {
     "cell_type": "code",
     "collapsed": false,
     "input": [
      "print(vtIncome)"
     ],
     "language": "python",
     "metadata": {},
     "outputs": [
      {
       "output_type": "stream",
       "stream": "stdout",
       "text": [
        "[0, 221, 122, 14, 11, 12084, 50, 302, 131, 884, 6226, 18, 13, 27, 0, 221, 122, 14, 11, 12084, 50, 302, 131, 884, 6226, 18, 13, 27, 108, 30, 256, 275, 92, 747, 13, 10, 25, 139, 0, 211, 290, 13, 105, 14, 860, 1291, 671, 79, 42694, 26, 13, 18, 13, 383, 0, 20, 12, 1306, 62, 0, 53, 101, 24, 13, 270, 100, 198, 1167, 14, 2879, 2042, 0, 300, 11524, 93, 4374, 13, 0, 33, 18, 1302, 90, 0, 117, 14, 13, 131, 57, 2341, 13, 2066, 110, 13, 434, 14, 51, 1501, 36, 127, 11, 298, 39722, 49, 63120, 413, 18, 140, 76, 403000, 20, 162, 18, 67, 29, 388, 92, 11, 33, 222, 37, 15, 14, 18, 2159, 171, 117, 26, 13, 35, 330, 15, 284, 54, 317, 100, 25072, 89, 13, 576, 152, 72, 65, 17, 12, 14, 2500, 1419, 13, 15, 216, 6312, 16, 125, 115, 209, 78, 30, 0, 0, 21, 14, 16033, 14, 1576, 28, 26, 22, 1062, 11, 354, 29, 11413, 12, 106, 2562, 4861, 0, 11]\n"
       ]
      }
     ],
     "prompt_number": 29
    },
    {
     "cell_type": "markdown",
     "metadata": {},
     "source": [
      "So i wanted to look into the break down of where all these dollars where comming from.  This is a box and whisker blot for Vermont.  As you can see the average is extremely low.  So low it almost impossible to tell what it is.  This is partly becuase there are some extremly high points like the 400k plus one."
     ]
    },
    {
     "cell_type": "code",
     "collapsed": false,
     "input": [
      "data = [go.Box(x = vtIncome)]\n",
      "py.iplot(data, filename='boxPlotAllVermont')"
     ],
     "language": "python",
     "metadata": {},
     "outputs": [
      {
       "html": [
        "<iframe id=\"igraph\" scrolling=\"no\" style=\"border:none;\" seamless=\"seamless\" src=\"https://plot.ly/~brendena/58.embed\" height=\"525px\" width=\"100%\"></iframe>"
       ],
       "metadata": {},
       "output_type": "pyout",
       "prompt_number": 33,
       "text": [
        "<plotly.tools.PlotlyDisplay at 0x7f7c1ce12e48>"
       ]
      }
     ],
     "prompt_number": 33
    },
    {
     "cell_type": "markdown",
     "metadata": {},
     "source": [
      "So to minimize the possiblitity that the date is being heavly scewed to the right by a few data points.  I removed all data points that where bellow 2000 dollars heavily scewing the data to the left closer to where the mean is.  What you can see is the average person get around 43 dollars and there are many people getting 0 dollars."
     ]
    },
    {
     "cell_type": "code",
     "collapsed": false,
     "input": [
      "data =  [go.Box(\n",
      "        x = vtIncome2\n",
      "        )]\n",
      "py.iplot(data, filename='boxPlotAllVermontUnder2000')"
     ],
     "language": "python",
     "metadata": {},
     "outputs": [
      {
       "html": [
        "<iframe id=\"igraph\" scrolling=\"no\" style=\"border:none;\" seamless=\"seamless\" src=\"https://plot.ly/~brendena/60.embed\" height=\"525px\" width=\"100%\"></iframe>"
       ],
       "metadata": {},
       "output_type": "pyout",
       "prompt_number": 34,
       "text": [
        "<plotly.tools.PlotlyDisplay at 0x7f7c1d14e668>"
       ]
      }
     ],
     "prompt_number": 34
    },
    {
     "cell_type": "markdown",
     "metadata": {},
     "source": [
      "So when it comes to creating a pdf on ubuntu\n",
      "I need to install the full latex and pandoc\n",
      "http://tex.stackexchange.com/questions/116659/latex-error-file-adjustbox-sty-not-found-on-ubuntu-10-04-2\n",
      "\n",
      "After that its just\n",
      "ipython3 nbconvert HomeWork1.ipynb --to latex --post PDF\n",
      "\n",
      "So this only works if you use the terminal ipython notebook"
     ]
    }
   ],
   "metadata": {}
  }
 ]
}